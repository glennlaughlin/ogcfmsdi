{
 "cells": [
  {
   "cell_type": "code",
   "execution_count": 73,
   "metadata": {
    "scrolled": true
   },
   "outputs": [
    {
     "name": "stdout",
     "output_type": "stream",
     "text": [
      "Collecting OWSLib\n",
      "^C\n",
      "\u001b[31mOperation cancelled by user\u001b[0m\n"
     ]
    }
   ],
   "source": [
    "!pip install OWSLib"
   ]
  },
  {
   "cell_type": "markdown",
   "metadata": {},
   "source": [
    "## Testing API access to S-122 data through an OGC API."
   ]
  },
  {
   "cell_type": "code",
   "execution_count": 82,
   "metadata": {},
   "outputs": [],
   "source": [
    "# something on OGC API\n",
    "from owslib.ogcapi.features import Features\n"
   ]
  },
  {
   "cell_type": "markdown",
   "metadata": {},
   "source": [
    "## Access to OGC API via OWS lib interfaces. \n",
    "List out all the collections..."
   ]
  },
  {
   "cell_type": "code",
   "execution_count": 83,
   "metadata": {},
   "outputs": [
    {
     "name": "stdout",
     "output_type": "stream",
     "text": [
      "['S-100Vector', 'S-122WDPA', 'S-122Dev', 'S-122JNCC', 'S-122DNK', 'S-122DEU', 'TEST']\n"
     ]
    }
   ],
   "source": [
    "w = Features('http://18.130.213.16/ogcfmsdi/')\n",
    "feature_collections = w.feature_collections()\n",
    "print(feature_collections)"
   ]
  },
  {
   "cell_type": "code",
   "execution_count": 84,
   "metadata": {},
   "outputs": [],
   "source": [
    "denmark = w.collection_items('S-122DNK')"
   ]
  },
  {
   "cell_type": "markdown",
   "metadata": {},
   "source": [
    "## Complex attributes\n",
    "they're not strings, they're JSON dictionaries, you can filter on these though, but you have to escape all the 's and get the formatting right, it's not ideal but it is possible to make up a search string on just the name (if you know the language). What I'm not sure is whether you can do a more general search. pygeoapi only supports simple profile of CQL though which hampers things somewhat."
   ]
  },
  {
   "cell_type": "code",
   "execution_count": 85,
   "metadata": {},
   "outputs": [
    {
     "name": "stdout",
     "output_type": "stream",
     "text": [
      "Nysø, Bøndernes Egehoved\n"
     ]
    }
   ],
   "source": [
    "print(denmark['features'][0]['properties']['featureName']['name'])"
   ]
  },
  {
   "cell_type": "code",
   "execution_count": 86,
   "metadata": {},
   "outputs": [
    {
     "name": "stdout",
     "output_type": "stream",
     "text": [
      "Ertholmene\n",
      "{'name': 'Ertholmene', 'language': 'DNK'}\n",
      "3\n"
     ]
    }
   ],
   "source": [
    "print(denmark['features'][3]['properties']['featureName']['name'])\n",
    "print(denmark['features'][3]['properties']['featureName'])\n",
    "d4 = w.collection_items('S-122DNK', featureName='{\\'name\\': \\'Ertholmene\\', \\'language\\': \\'DNK\\'}')\n",
    "print(d4['numberMatched'])\n"
   ]
  },
  {
   "cell_type": "markdown",
   "metadata": {},
   "source": [
    "## How to retrieve features by relationship\n",
    "\n",
    "Each relationship can be included as a distinct link (although we may have to group these by relationship name as there is a multiplicity of relationships between features and information types). so, it is possible to grab features, examine the inter-feature links and retrieve attribution from those links. This example retrieves the associated Authority feature and looks for the categoryOfAuthority it contains."
   ]
  },
  {
   "cell_type": "code",
   "execution_count": 87,
   "metadata": {},
   "outputs": [
    {
     "name": "stdout",
     "output_type": "stream",
     "text": [
      "ID0\n",
      "{'protectedAreaAuthority': 'ID1'}\n",
      "dict_keys(['protectedAreaAuthority'])\n",
      "->ID1\n",
      "environmental\n"
     ]
    }
   ],
   "source": [
    "denmark2 = w.collection_items('TEST')\n",
    "print(denmark2['features'][0]['id'])\n",
    "print(denmark2['features'][0]['links'])\n",
    "print( (denmark2['features'][0]['links']).keys() )\n",
    "relatedlink = denmark2['features'][0]['links']['protectedAreaAuthority']\n",
    "print('->' + relatedlink)\n",
    "d3 = w.collection_item('TEST',str(relatedlink))\n",
    "print(d3['properties']['categoryOfAuthority'])\n"
   ]
  },
  {
   "cell_type": "code",
   "execution_count": 88,
   "metadata": {},
   "outputs": [
    {
     "name": "stdout",
     "output_type": "stream",
     "text": [
      "{'type': 'Feature', 'id': 'UKNCMPA020', 'properties': {'featureType': 'MarineProtectedArea', 'featureName': {'name': 'Central Fladen'}, 'categoryOfMarineProtectedArea': 'Unknown', 'status': 'permanent'}, 'geometry': {'type': 'MultiPolygon', 'coordinates': [[[[0.108983607507525, 58.8551780583208], [-0.002838612811672, 58.8190508779957], [-0.118068032513634, 58.8271201781537], [-0.164053432719697, 58.8303137184034], [-0.405296772128281, 58.9595311581365], [-0.526745052342221, 59.0931489977281], [-0.377357232849988, 59.3179229176086], [-0.207963493520367, 59.2551523980648], [-0.100887752867436, 59.1926915375844], [-0.288270292939615, 59.0618211781049], [-0.13955399272254, 58.9874630378889], [0.074576767303995, 58.970440977769], [0.096941226656327, 58.9239917378285], [0.108983607507525, 58.8551780583208]]]]}, 'links': {'protectedAreaAuthority': 'JNCC'}}\n",
      "->JNCC\n",
      "JNCC\n"
     ]
    }
   ],
   "source": [
    "jncc1 = w.collection_items('S-122JNCC')\n",
    "print(jncc1['features'][1])\n",
    "\n",
    "relatedlink = jncc1['features'][1]['links']['protectedAreaAuthority']\n",
    "print('->' + relatedlink)\n",
    "d3 = w.collection_item('S-122JNCC',str(relatedlink))\n",
    "print(d3['properties']['featureName']['name'])"
   ]
  },
  {
   "cell_type": "markdown",
   "metadata": {},
   "source": [
    "## Filtering.\n",
    "This retrieves features according to the IUCN category. Note that the category is not conformant with the S-122 enumeration values (yet). It would be possible to read in a JSON version of the feature catalogue and establish what these are (next step in this notebook)."
   ]
  },
  {
   "cell_type": "code",
   "execution_count": 89,
   "metadata": {},
   "outputs": [
    {
     "name": "stdout",
     "output_type": "stream",
     "text": [
      "26\n",
      "{'name': 'Ulvshale', 'language': 'DNK'}\n",
      "66\n",
      "{'name': 'Insel Vilm', 'language': 'DEU'}\n"
     ]
    }
   ],
   "source": [
    "denmark4 = w.collection_items('S-122DNK', categoryOfMarineProtectedArea='IV')\n",
    "print(denmark4['numberMatched'])\n",
    "print(denmark4['features'][1]['properties']['featureName'])\n",
    "\n",
    "germany4 = w.collection_items('S-122DEU', categoryOfMarineProtectedArea='IV')\n",
    "print(germany4['numberMatched'])\n",
    "print(germany4['features'][1]['properties']['featureName'])"
   ]
  },
  {
   "cell_type": "markdown",
   "metadata": {},
   "source": [
    "## other ways?"
   ]
  },
  {
   "cell_type": "code",
   "execution_count": 90,
   "metadata": {},
   "outputs": [
    {
     "name": "stdout",
     "output_type": "stream",
     "text": [
      "\n",
      "{'code': 'InvalidParameterValue', 'description': 'unknown query parameter: filter-lang'}\n"
     ]
    }
   ],
   "source": [
    "import requests\n",
    "url='http://18.130.213.16/ogcfmsdi/collections/S-122JNCC/items/JNCC?f=json&'\n",
    "url='http://18.130.213.16/ogcfmsdi/collections/S-122JNCC/items?f=json&limit=1000'\n",
    "url='http://18.132.248.81:5000/collections/obs/items?f=json'\n",
    "callurl = url + '&filter-lang=cql&filter=categoryOfMarineProtectedArea LIKE %V%'\n",
    "response = requests.get(callurl)\n",
    "print()\n",
    "resp = response.json()\n",
    "print(response.json())"
   ]
  }
 ],
 "metadata": {
  "kernelspec": {
   "display_name": "Python 3",
   "language": "python",
   "name": "python3"
  },
  "language_info": {
   "codemirror_mode": {
    "name": "ipython",
    "version": 3
   },
   "file_extension": ".py",
   "mimetype": "text/x-python",
   "name": "python",
   "nbconvert_exporter": "python",
   "pygments_lexer": "ipython3",
   "version": "3.6.9"
  }
 },
 "nbformat": 4,
 "nbformat_minor": 4
}
