{
 "cells": [
  {
   "cell_type": "code",
   "execution_count": 21,
   "metadata": {
    "scrolled": true
   },
   "outputs": [
    {
     "name": "stdout",
     "output_type": "stream",
     "text": [
      "Collecting OWSLib\n",
      "  Downloading https://files.pythonhosted.org/packages/1e/8d/7122532195b726cd8a6e5e57fa9d701b194f52e9202260e9dbdaef914d95/OWSLib-0.19.0.tar.gz (158kB)\n",
      "\u001b[K    100% |████████████████████████████████| 163kB 694kB/s ta 0:00:01\n",
      "\u001b[?25hCollecting pyproj (from OWSLib)\n",
      "  Downloading https://files.pythonhosted.org/packages/9b/9a/04dcffd4ff9bc064c05f723be71177cfb593d5ce6e4d6185c3ef8b7a4be9/pyproj-2.2.2-cp27-cp27mu-manylinux1_x86_64.whl (11.2MB)\n",
      "\u001b[K    100% |████████████████████████████████| 11.2MB 41kB/s  eta 0:00:01\n",
      "\u001b[?25hCollecting python-dateutil>=1.5 (from OWSLib)\n",
      "  Using cached https://files.pythonhosted.org/packages/36/7a/87837f39d0296e723bb9b62bbb257d0355c7f6128853c78955f57342a56d/python_dateutil-2.8.2-py2.py3-none-any.whl\n",
      "Collecting pytz (from OWSLib)\n",
      "  Using cached https://files.pythonhosted.org/packages/d3/e3/d9f046b5d1c94a3aeab15f1f867aa414f8ee9d196fae6865f1d6a0ee1a0b/pytz-2021.3-py2.py3-none-any.whl\n",
      "Collecting requests>=1.0 (from OWSLib)\n",
      "  Using cached https://files.pythonhosted.org/packages/2d/61/08076519c80041bc0ffa1a8af0cbd3bf3e2b62af10435d269a9d0f40564d/requests-2.27.1-py2.py3-none-any.whl\n",
      "Collecting aenum; python_version < \"3.6\" (from pyproj->OWSLib)\n",
      "  Downloading https://files.pythonhosted.org/packages/ab/48/b8c35362af86f3979c8d0704af82d11f297664834ffc5c961caf7377bf90/aenum-3.1.8-py2-none-any.whl (120kB)\n",
      "\u001b[K    100% |████████████████████████████████| 122kB 1.9MB/s eta 0:00:01\n",
      "\u001b[?25hCollecting six>=1.5 (from python-dateutil>=1.5->OWSLib)\n",
      "  Using cached https://files.pythonhosted.org/packages/d9/5a/e7c31adbe875f2abbb91bd84cf2dc52d792b5a01506781dbcf25c91daf11/six-1.16.0-py2.py3-none-any.whl\n",
      "Collecting idna<3,>=2.5; python_version < \"3\" (from requests>=1.0->OWSLib)\n",
      "  Downloading https://files.pythonhosted.org/packages/a2/38/928ddce2273eaa564f6f50de919327bf3a00f091b5baba8dfa9460f3a8a8/idna-2.10-py2.py3-none-any.whl (58kB)\n",
      "\u001b[K    100% |████████████████████████████████| 61kB 1.3MB/s eta 0:00:01\n",
      "\u001b[?25hCollecting certifi>=2017.4.17 (from requests>=1.0->OWSLib)\n",
      "  Using cached https://files.pythonhosted.org/packages/37/45/946c02767aabb873146011e665728b680884cd8fe70dde973c640e45b775/certifi-2021.10.8-py2.py3-none-any.whl\n",
      "Collecting urllib3<1.27,>=1.21.1 (from requests>=1.0->OWSLib)\n",
      "  Using cached https://files.pythonhosted.org/packages/4e/b8/f5a25b22e803f0578e668daa33ba3701bb37858ec80e08a150bd7d2cf1b1/urllib3-1.26.8-py2.py3-none-any.whl\n",
      "Collecting chardet<5,>=3.0.2; python_version < \"3\" (from requests>=1.0->OWSLib)\n",
      "  Downloading https://files.pythonhosted.org/packages/19/c7/fa589626997dd07bd87d9269342ccb74b1720384a4d739a1872bd84fbe68/chardet-4.0.0-py2.py3-none-any.whl (178kB)\n",
      "\u001b[K    100% |████████████████████████████████| 184kB 1.0MB/s eta 0:00:01\n",
      "\u001b[?25hBuilding wheels for collected packages: OWSLib\n",
      "  Running setup.py bdist_wheel for OWSLib ... \u001b[?25ldone\n",
      "\u001b[?25h  Stored in directory: /home/jonp/.cache/pip/wheels/cb/d0/69/6abd739016cea8b28b66dcf1adf97fc1f433c3b3ca2923fbc5\n",
      "Successfully built OWSLib\n",
      "Installing collected packages: aenum, pyproj, six, python-dateutil, pytz, idna, certifi, urllib3, chardet, requests, OWSLib\n",
      "Successfully installed OWSLib-0.19.0 aenum-3.1.8 certifi-2021.10.8 chardet-4.0.0 idna-2.10 pyproj-2.2.2 python-dateutil-2.8.2 pytz-2021.3 requests-2.27.1 six-1.16.0 urllib3-1.26.8\n"
     ]
    }
   ],
   "source": [
    "!pip install OWSLib"
   ]
  },
  {
   "cell_type": "markdown",
   "metadata": {},
   "source": [
    "## Testing API access to S-122 data through an OGC API."
   ]
  },
  {
   "cell_type": "code",
   "execution_count": 37,
   "metadata": {},
   "outputs": [],
   "source": [
    "# something on OGC API\n",
    "from owslib.ogcapi.features import Features\n"
   ]
  },
  {
   "cell_type": "markdown",
   "metadata": {},
   "source": [
    "## Access to OGC API via OWS lib interfaces. \n",
    "List out all the collections..."
   ]
  },
  {
   "cell_type": "code",
   "execution_count": 38,
   "metadata": {},
   "outputs": [
    {
     "name": "stdout",
     "output_type": "stream",
     "text": [
      "['S-100Vector', 'S-122WDPA', 'S-122Dev', 'S-122JNCC', 'S-122DNK', 'S-122DEU', 'TEST']\n"
     ]
    }
   ],
   "source": [
    "w = Features('http://18.130.213.16/ogcfmsdi/')\n",
    "feature_collections = w.feature_collections()\n",
    "print(feature_collections)"
   ]
  },
  {
   "cell_type": "code",
   "execution_count": 39,
   "metadata": {},
   "outputs": [],
   "source": [
    "denmark = w.collection_items('S-122DNK')"
   ]
  },
  {
   "cell_type": "markdown",
   "metadata": {},
   "source": [
    "## Complex attributes\n",
    "they're not strings, they're JSON dictionaries, you can filter on these though, but you have to escape all the 's and get the formatting right, it's not ideal but it is possible to make up a search string on just the name (if you know the language). What I'm not sure is whether you can do a more general search. pygeoapi only supports simple profile of CQL though which hampers things somewhat."
   ]
  },
  {
   "cell_type": "code",
   "execution_count": 40,
   "metadata": {},
   "outputs": [
    {
     "name": "stdout",
     "output_type": "stream",
     "text": [
      "Nysø, Bøndernes Egehoved\n"
     ]
    }
   ],
   "source": [
    "print(denmark['features'][0]['properties']['featureName']['name'])"
   ]
  },
  {
   "cell_type": "code",
   "execution_count": 45,
   "metadata": {},
   "outputs": [
    {
     "name": "stdout",
     "output_type": "stream",
     "text": [
      "Ertholmene\n",
      "{'name': 'Ertholmene', 'language': 'DNK'}\n",
      "3\n"
     ]
    }
   ],
   "source": [
    "print(denmark['features'][3]['properties']['featureName']['name'])\n",
    "print(denmark['features'][3]['properties']['featureName'])\n",
    "d4 = w.collection_items('S-122DNK', featureName='{\\'name\\': \\'Ertholmene\\', \\'language\\': \\'DNK\\'}')\n",
    "print(d4['numberMatched'])\n"
   ]
  },
  {
   "cell_type": "markdown",
   "metadata": {},
   "source": [
    "## How to retrieve features by relationship\n",
    "\n",
    "Each relationship can be included as a distinct link (although we may have to group these by relationship name as there is a multiplicity of relationships between features and information types). so, it is possible to grab features, examine the inter-feature links and retrieve attribution from those links. This example retrieves the associated Authority feature and looks for the categoryOfAuthority it contains."
   ]
  },
  {
   "cell_type": "code",
   "execution_count": 42,
   "metadata": {},
   "outputs": [
    {
     "name": "stdout",
     "output_type": "stream",
     "text": [
      "ID0\n",
      "{'protectedAreaAuthority': 'ID1'}\n",
      "dict_keys(['protectedAreaAuthority'])\n",
      "->ID1\n",
      "environmental\n"
     ]
    }
   ],
   "source": [
    "denmark2 = w.collection_items('TEST')\n",
    "print(denmark2['features'][0]['id'])\n",
    "print(denmark2['features'][0]['links'])\n",
    "print( (denmark2['features'][0]['links']).keys() )\n",
    "relatedlink = denmark2['features'][0]['links']['protectedAreaAuthority']\n",
    "print('->' + relatedlink)\n",
    "d3 = w.collection_item('TEST',str(relatedlink))\n",
    "print(d3['properties']['categoryOfAuthority'])\n"
   ]
  },
  {
   "cell_type": "code",
   "execution_count": 43,
   "metadata": {},
   "outputs": [
    {
     "name": "stdout",
     "output_type": "stream",
     "text": [
      "{'type': 'Feature', 'id': 'JNCC', 'properties': {'featureType': 'Authority', 'categoryOfAuthority': 'environmental', 'featureName': {'name': 'JNCC'}}}\n",
      "->JNCC\n",
      "JNCC\n"
     ]
    }
   ],
   "source": [
    "jncc1 = w.collection_items('S-122JNCC')\n",
    "print(jncc1['features'][0])\n",
    "relatedlink = jncc1['features'][1]['links']['protectedAreaAuthority']\n",
    "print('->' + relatedlink)\n",
    "d3 = w.collection_item('S-122JNCC',str(relatedlink))\n",
    "print(d3['properties']['featureName']['name'])"
   ]
  },
  {
   "cell_type": "markdown",
   "metadata": {},
   "source": [
    "## Filtering.\n",
    "This retrieves features according to the IUCN category. Note that the category is not conformant with the S-122 enumeration values (yet). It would be possible to read in a JSON version of the feature catalogue and establish what these are (next step in this notebook)."
   ]
  },
  {
   "cell_type": "code",
   "execution_count": 44,
   "metadata": {},
   "outputs": [
    {
     "name": "stdout",
     "output_type": "stream",
     "text": [
      "26\n",
      "{'name': 'Ulvshale', 'language': 'DNK'}\n",
      "66\n",
      "{'name': 'Insel Vilm', 'language': 'DEU'}\n"
     ]
    }
   ],
   "source": [
    "denmark4 = w.collection_items('S-122DNK', categoryOfMarineProtectedArea='IV')\n",
    "print(denmark4['numberMatched'])\n",
    "print(denmark4['features'][1]['properties']['featureName'])\n",
    "\n",
    "germany4 = w.collection_items('S-122DEU', categoryOfMarineProtectedArea='IV')\n",
    "print(germany4['numberMatched'])\n",
    "print(germany4['features'][1]['properties']['featureName'])"
   ]
  }
 ],
 "metadata": {
  "kernelspec": {
   "display_name": "Python 3",
   "language": "python",
   "name": "python3"
  },
  "language_info": {
   "codemirror_mode": {
    "name": "ipython",
    "version": 3
   },
   "file_extension": ".py",
   "mimetype": "text/x-python",
   "name": "python",
   "nbconvert_exporter": "python",
   "pygments_lexer": "ipython3",
   "version": "3.6.9"
  }
 },
 "nbformat": 4,
 "nbformat_minor": 4
}
