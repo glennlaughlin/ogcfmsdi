{
 "cells": [
  {
   "cell_type": "markdown",
   "metadata": {},
   "source": [
    "## Testing API access to S-122 data through an OGC API."
   ]
  },
  {
   "cell_type": "code",
   "execution_count": 1,
   "metadata": {},
   "outputs": [],
   "source": [
    "# something on OGC API\n",
    "from owslib.ogcapi.features import Features"
   ]
  },
  {
   "cell_type": "code",
   "execution_count": 2,
   "metadata": {},
   "outputs": [],
   "source": [
    "#srv='http://18.130.213.16/ogcfmsdi/'\n",
    "srv='http://35.176.250.142/pygeoapi/'"
   ]
  },
  {
   "cell_type": "markdown",
   "metadata": {},
   "source": [
    "## Access to OGC API via OWS lib interfaces. \n",
    "List out all the collections..."
   ]
  },
  {
   "cell_type": "code",
   "execution_count": 3,
   "metadata": {},
   "outputs": [
    {
     "name": "stdout",
     "output_type": "stream",
     "text": [
      "['S-122WDPA_ES', 'S-122WDPA_ES_BB', 'S-122WDPA', 'S-122JNCC_ES', 'S-122JNCC_ES_BB', 'S-122JNCC', 'S122DNK_ES', 'S-122DNK', 'S-122DEU', 'S-122NLD', 'S122DEU_ES', 'S122NLD_ES', 'S-100Vector']\n"
     ]
    }
   ],
   "source": [
    "w = Features(srv)\n",
    "feature_collections = w.feature_collections()\n",
    "print(feature_collections)"
   ]
  },
  {
   "cell_type": "markdown",
   "metadata": {},
   "source": [
    "## timings\n",
    "timings for different providers. This is geojson vs elasticsearch"
   ]
  },
  {
   "cell_type": "code",
   "execution_count": 4,
   "metadata": {},
   "outputs": [
    {
     "name": "stdout",
     "output_type": "stream",
     "text": [
      "CPU times: user 135 ms, sys: 13.2 ms, total: 149 ms\n",
      "Wall time: 1.73 s\n"
     ]
    }
   ],
   "source": [
    "%%time\n",
    "denmark = w.collection_items('S-122NLD')"
   ]
  },
  {
   "cell_type": "code",
   "execution_count": 5,
   "metadata": {},
   "outputs": [
    {
     "name": "stdout",
     "output_type": "stream",
     "text": [
      "CPU times: user 131 ms, sys: 31.3 ms, total: 162 ms\n",
      "Wall time: 1.68 s\n"
     ]
    }
   ],
   "source": [
    "%%time\n",
    "denmark = w.collection_items('S-122NLD')"
   ]
  },
  {
   "cell_type": "markdown",
   "metadata": {},
   "source": [
    "## Complex attributes\n",
    "they're not strings, they're JSON dictionaries, you can filter on these though...."
   ]
  },
  {
   "cell_type": "code",
   "execution_count": 6,
   "metadata": {},
   "outputs": [
    {
     "name": "stdout",
     "output_type": "stream",
     "text": [
      "Schiermonnikoog\n"
     ]
    }
   ],
   "source": [
    "print(denmark['features'][0]['properties']['featureName']['name'])"
   ]
  },
  {
   "cell_type": "markdown",
   "metadata": {},
   "source": [
    "## How to retrieve features by relationship\n",
    "\n",
    "Each relationship can be included as a distinct link (although we may have to group these by relationship name as there is a multiplicity of relationships between features and information types). so, it is possible to grab features, examine the inter-feature links and retrieve attribution from those links. This example retrieves the associated Authority feature and looks for the categoryOfAuthority it contains."
   ]
  },
  {
   "cell_type": "code",
   "execution_count": 8,
   "metadata": {},
   "outputs": [
    {
     "name": "stdout",
     "output_type": "stream",
     "text": [
      "DK00VA308\n"
     ]
    },
    {
     "ename": "KeyError",
     "evalue": "'links'",
     "output_type": "error",
     "traceback": [
      "\u001b[0;31m---------------------------------------------------------------------------\u001b[0m",
      "\u001b[0;31mKeyError\u001b[0m                                  Traceback (most recent call last)",
      "File \u001b[0;32m<timed exec>:3\u001b[0m, in \u001b[0;36m<module>\u001b[0;34m\u001b[0m\n",
      "\u001b[0;31mKeyError\u001b[0m: 'links'"
     ]
    }
   ],
   "source": [
    "%%time\n",
    "denmark2 = w.collection_items('S-100Vector')\n",
    "print(denmark2['features'][0]['id'])\n",
    "print(denmark2['features'][0]['links'])\n",
    "print( (denmark2['features'][0]['links']).keys() )\n",
    "relatedlink = denmark2['features'][0]['links']['protectedAreaAuthority']\n",
    "print('->' + relatedlink)\n",
    "d3 = w.collection_item('TEST',str(relatedlink))\n",
    "print(d3['properties']['categoryOfAuthority'])\n"
   ]
  },
  {
   "cell_type": "markdown",
   "metadata": {},
   "source": [
    "## Filtering.\n",
    "This retrieves features according to the IUCN category. Note that the category is not conformant with the S-122 enumeration values (yet). It would be possible to read in a JSON version of the feature catalogue and establish what these are (next step in this notebook)."
   ]
  },
  {
   "cell_type": "code",
   "execution_count": 9,
   "metadata": {},
   "outputs": [
    {
     "name": "stdout",
     "output_type": "stream",
     "text": [
      "26\n",
      "{'name': 'Ulvshale', 'language': 'DNK'}\n",
      "66\n",
      "{'name': 'Insel Vilm', 'language': 'DEU'}\n",
      "CPU times: user 137 ms, sys: 38 ms, total: 175 ms\n",
      "Wall time: 3.25 s\n"
     ]
    }
   ],
   "source": [
    "%%time\n",
    "denmark4 = w.collection_items('S-122DNK', categoryOfMarineProtectedArea='IV')\n",
    "print(denmark4['numberMatched'])\n",
    "print(denmark4['features'][1]['properties']['featureName'])\n",
    "\n",
    "germany4 = w.collection_items('S-122DEU', categoryOfMarineProtectedArea='IV')\n",
    "print(germany4['numberMatched'])\n",
    "print(germany4['features'][1]['properties']['featureName'])"
   ]
  },
  {
   "cell_type": "code",
   "execution_count": 10,
   "metadata": {},
   "outputs": [
    {
     "name": "stdout",
     "output_type": "stream",
     "text": [
      "{'type': 'Feature', 'id': 'DK:H14:0', 'properties': {'featureType': 'MarineProtectedArea', 'dateEnacted': '2018-11-01T00:00:00', 'foid': 'DK:H14:0', 'featureName': {'name': 'Adler Grund og Rønne Banke'}, 'categoryOfMarineProtectedArea': 'Not Applicable', 'status': 'permanent'}, 'geometry': {'type': 'Polygon', 'coordinates': [[[14.4136267768444, 54.812479750607], [14.1719041528197, 54.8124797761894], [14.459820942417, 55.0353302182999], [14.6072587973987, 54.9710569447474], [14.4136267768444, 54.812479750607]]]}}\n",
      "CPU times: user 5.41 ms, sys: 0 ns, total: 5.41 ms\n",
      "Wall time: 241 ms\n"
     ]
    }
   ],
   "source": [
    "%%time\n",
    "denmark1 = w.collection_items('S122DNK_ES',status='permanent')\n",
    "qs =  w.collection_queryables('S122DNK_ES')\n",
    "\n",
    "print(denmark1['features'][0])\n",
    "#denmark2 = w.collection_items('TEST2', jurisdiction='international')\n",
    "#print(denmark2['features'][0])\n"
   ]
  },
  {
   "cell_type": "markdown",
   "metadata": {},
   "source": [
    "## Some tests with the new server and CQL filters/queries...."
   ]
  },
  {
   "cell_type": "code",
   "execution_count": 12,
   "metadata": {},
   "outputs": [
    {
     "name": "stdout",
     "output_type": "stream",
     "text": [
      "http://35.176.250.142:5000/collections/S122DNK/items?f=json&filter-lang=cql-text&filter=WITHIN%28geometry%2C+POLYGON%28%286.0+57.0%2C9.0+57.0%2C9.0+54.0%2C6.0+54.0%2C6.0+57.0%29%29%29\n",
      "5  features found\n"
     ]
    }
   ],
   "source": [
    "import urllib\n",
    "from urllib.request import urlopen\n",
    "import json\n",
    "\n",
    "coll='S122DNK'\n",
    "qry='filter-lang=cql-text&filter=CONTAINS(geometry, POLYGON((108.58 54.19, 108.37 54.04, 108.48 53.94, 108.77 54.01, 108.77 54.11, 108.58 54.19)))'\n",
    "hosttest2='http://35.176.250.142:5000/collections/' + coll + 'test2/items?f=json&' + qry\n",
    "\n",
    "qry_body='CONTAINS(geometry, POLYGON((108.58 54.19, 108.37 54.04, 108.48 53.94, 108.77 54.01, 108.77 54.11, 108.58 54.19)))'\n",
    "qry_pre='filter-lang=cql-text&filter='\n",
    "srvhost='http://35.176.250.142:5000/collections/' + coll + '/items'\n",
    "srvtest2=srvhost + qry_pre + qry_body\n",
    "\n",
    "qr={'f':'json',\n",
    "    'filter-lang':'cql-text',\n",
    "    'filter':'WITHIN(geometry, POLYGON((6.0 57.0,9.0 57.0,9.0 54.0,6.0 54.0,6.0 57.0)))'\n",
    "   }\n",
    "\n",
    "qrys=srvhost + '?' + urllib.parse.urlencode(qr)\n",
    "\n",
    "srvlakes_s=\"http://35.176.250.142:5000/collections/lakes/items?f=json\"\n",
    "srvlakes_t=\"http://35.176.250.142:5000/collections/lakes/items?f=json&filter-lang=cql-text&filter=CONTAINS(geometry,%20POLYGON((108.58%2054.19,%20108.37%2054.04,%20108.48%2053.94,%20108.77%2054.01,%20108.77%2054.11,%20108.58%2054.19)))\"\n",
    "\n",
    "srvtest3_t=\"http://35.176.250.142:5000/collections/test3/items?f=html&filter-lang=cql-text&filter=CONTAINS(geometry,%20POLYGON((8.0%2057.0,%2016.0%2057.0,%2016.0%2052.0,%208.0%2052.0,%208.0%2057.0)))\"\n",
    "\n",
    "#print(srvtest3_t)\n",
    "\n",
    "theserve=qrys\n",
    "\n",
    "print(theserve)\n",
    "response = urlopen(theserve)\n",
    "\n",
    "data_json = json.loads(response.read())\n",
    "\n",
    "print(len(data_json['features']) , ' features found')\n",
    "\n",
    "\n"
   ]
  },
  {
   "cell_type": "markdown",
   "metadata": {},
   "source": [
    "## Testing Polygon intersect queries\n",
    "\n",
    "This queries a bounding box made from a polygon. This uses the port 5000 version of the pygeoapi server, made with the CQL extensions enabled."
   ]
  },
  {
   "cell_type": "code",
   "execution_count": 13,
   "metadata": {},
   "outputs": [
    {
     "name": "stdout",
     "output_type": "stream",
     "text": [
      "http://35.176.250.142:5000/collections/S122DNK/items?f=json&filter-lang=cql-text&filter=WITHIN%28geometry%2CPOLYGON%28%286.0+57.0%2C9.0+57.0%2C9.0+54.0%2C6.0+54.0%2C6.0+57.0%29%29%29\n",
      "5  features found\n"
     ]
    }
   ],
   "source": [
    "import urllib\n",
    "from urllib.request import urlopen\n",
    "import json\n",
    "\n",
    "\n",
    "srvhost='http://35.176.250.142:5000/collections/S122DNK/items'\n",
    "\n",
    "qr={'f':'json','filter-lang':'cql-text','filter':'WITHIN(geometry,POLYGON((6.0 57.0,9.0 57.0,9.0 54.0,6.0 54.0,6.0 57.0)))'}\n",
    "qrys=srvhost + '?' + urllib.parse.urlencode(qr)\n",
    "\n",
    "theserve=qrys\n",
    "print(theserve)\n",
    "\n",
    "response = urlopen(theserve)\n",
    "data_json = json.loads(response.read())\n",
    "\n",
    "print(len(data_json['features']) , ' features found')\n"
   ]
  },
  {
   "cell_type": "code",
   "execution_count": 14,
   "metadata": {},
   "outputs": [
    {
     "name": "stdout",
     "output_type": "stream",
     "text": [
      "http://35.176.250.142/pygeoapi/collections/S122DNK_ES/items?f=json&bbox=6.0%2C54.0%2C9.0%2C57.0\n",
      "5  features found\n"
     ]
    }
   ],
   "source": [
    "srvhost='http://35.176.250.142/pygeoapi/collections/S122DNK_ES/items'\n",
    "\n",
    "qr={'f':'json',\n",
    "    'bbox':'6.0,54.0,9.0,57.0'}\n",
    "qrys=srvhost + '?' + urllib.parse.urlencode(qr)\n",
    "\n",
    "theserve=qrys\n",
    "print(theserve)\n",
    "\n",
    "response = urlopen(theserve)\n",
    "data_json = json.loads(response.read())\n",
    "\n",
    "print(len(data_json['features']) , ' features found')"
   ]
  },
  {
   "cell_type": "code",
   "execution_count": null,
   "metadata": {},
   "outputs": [],
   "source": []
  }
 ],
 "metadata": {
  "kernelspec": {
   "display_name": "Python 3 (ipykernel)",
   "language": "python",
   "name": "python3"
  },
  "language_info": {
   "codemirror_mode": {
    "name": "ipython",
    "version": 3
   },
   "file_extension": ".py",
   "mimetype": "text/x-python",
   "name": "python",
   "nbconvert_exporter": "python",
   "pygments_lexer": "ipython3",
   "version": "3.8.10"
  }
 },
 "nbformat": 4,
 "nbformat_minor": 4
}
